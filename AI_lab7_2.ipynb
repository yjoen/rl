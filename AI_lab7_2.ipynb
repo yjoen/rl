{
  "nbformat": 4,
  "nbformat_minor": 0,
  "metadata": {
    "kernelspec": {
      "display_name": "Python 3",
      "language": "python",
      "name": "python3"
    },
    "language_info": {
      "codemirror_mode": {
        "name": "ipython",
        "version": 3
      },
      "file_extension": ".py",
      "mimetype": "text/x-python",
      "name": "python",
      "nbconvert_exporter": "python",
      "pygments_lexer": "ipython3",
      "version": "3.8.3"
    },
    "colab": {
      "name": "AI-lab7-2.ipynb",
      "provenance": []
    }
  },
  "cells": [
    {
      "cell_type": "markdown",
      "metadata": {
        "id": "s-L4DxAPT2ie"
      },
      "source": [
        "### Chapter 4. Dynamic Programming\n",
        "\n",
        "A program to simulate and calculate the example of a random policy in a small grid"
      ]
    },
    {
      "cell_type": "code",
      "metadata": {
        "id": "4EMI4xb1T2il"
      },
      "source": [
        "import numpy as np\n",
        "from tqdm import tqdm"
      ],
      "execution_count": null,
      "outputs": []
    },
    {
      "cell_type": "code",
      "metadata": {
        "id": "njjHrR75T2im"
      },
      "source": [
        "import matplotlib.pyplot as plt\n",
        "import seaborn as sns\n",
        "sns.set_style(\"darkgrid\")"
      ],
      "execution_count": null,
      "outputs": []
    },
    {
      "cell_type": "code",
      "metadata": {
        "id": "8IldIZEKT2im",
        "colab": {
          "base_uri": "https://localhost:8080/"
        },
        "outputId": "549f6b2c-fce7-47c3-9274-f965ba567caa"
      },
      "source": [
        "%pylab inline"
      ],
      "execution_count": null,
      "outputs": [
        {
          "output_type": "stream",
          "text": [
            "Populating the interactive namespace from numpy and matplotlib\n"
          ],
          "name": "stdout"
        }
      ]
    },
    {
      "cell_type": "code",
      "metadata": {
        "id": "2itg5dYDT2in"
      },
      "source": [
        "import random"
      ],
      "execution_count": null,
      "outputs": []
    },
    {
      "cell_type": "markdown",
      "metadata": {
        "id": "BSKdIyxaT2io"
      },
      "source": [
        "### Policy iteration\n",
        "\n",
        "#### Parameters"
      ]
    },
    {
      "cell_type": "code",
      "metadata": {
        "id": "RaVbgecOT2io"
      },
      "source": [
        "gamma = 1 # discounting rate\n",
        "rewardSize = -1\n",
        "gridSize = 4\n",
        "terminationStates = [[0,0], [gridSize-1, gridSize-1]]\n",
        "actions = [[-1, 0], [1, 0], [0, 1], [0, -1]]\n",
        "numIterations = 1000"
      ],
      "execution_count": null,
      "outputs": []
    },
    {
      "cell_type": "markdown",
      "metadata": {
        "id": "9NGpWHGtT2io"
      },
      "source": [
        "#### Help functions"
      ]
    },
    {
      "cell_type": "code",
      "metadata": {
        "id": "XVdVvAGXT2io"
      },
      "source": [
        "def actionRewardFunction(initialPosition, action):\n",
        "    \n",
        "    if initialPosition in terminationStates:\n",
        "        return initialPosition, 0\n",
        "    \n",
        "    reward = rewardSize\n",
        "    finalPosition = np.array(initialPosition) + np.array(action)\n",
        "    if -1 in finalPosition or 4 in finalPosition: \n",
        "        finalPosition = initialPosition\n",
        "        \n",
        "    return finalPosition, reward\n"
      ],
      "execution_count": null,
      "outputs": []
    },
    {
      "cell_type": "markdown",
      "metadata": {
        "id": "QsDdjeJ5T2ip"
      },
      "source": [
        "#### Initialization -- states, value of functions"
      ]
    },
    {
      "cell_type": "code",
      "metadata": {
        "id": "JWNoJc-LT2ip"
      },
      "source": [
        "valueMap = np.zeros((gridSize, gridSize))\n",
        "states = [[i, j] for i in range(gridSize) for j in range(gridSize)]"
      ],
      "execution_count": null,
      "outputs": []
    },
    {
      "cell_type": "code",
      "metadata": {
        "id": "TDKUWXJ5T2ip",
        "colab": {
          "base_uri": "https://localhost:8080/"
        },
        "outputId": "b8cf2987-6d71-414b-8564-7bbc86e6d86a"
      },
      "source": [
        "# values of the value function at step 0 - initial values\n",
        "valueMap"
      ],
      "execution_count": null,
      "outputs": [
        {
          "output_type": "execute_result",
          "data": {
            "text/plain": [
              "array([[0., 0., 0., 0.],\n",
              "       [0., 0., 0., 0.],\n",
              "       [0., 0., 0., 0.],\n",
              "       [0., 0., 0., 0.]])"
            ]
          },
          "metadata": {
            "tags": []
          },
          "execution_count": 8
        }
      ]
    },
    {
      "cell_type": "markdown",
      "metadata": {
        "id": "zeOzrYhOT2iq"
      },
      "source": [
        "#### Policy evaluation"
      ]
    },
    {
      "cell_type": "code",
      "metadata": {
        "id": "wtfVoIMUT2iq",
        "colab": {
          "base_uri": "https://localhost:8080/"
        },
        "outputId": "a8246cfe-1218-4577-c1dd-c962a9b301b8"
      },
      "source": [
        "deltas = []\n",
        "for it in range(numIterations):\n",
        "    copyValueMap = np.copy(valueMap)\n",
        "    deltaState = []\n",
        "    for state in states:\n",
        "        weightedRewards = 0\n",
        "        for action in actions:\n",
        "            finalPosition, reward = actionRewardFunction(state, action)\n",
        "            weightedRewards += (1/len(actions))*(reward+(gamma*valueMap[finalPosition[0], finalPosition[1]]))\n",
        "        deltaState.append(np.abs(copyValueMap[state[0], state[1]]-weightedRewards))\n",
        "        copyValueMap[state[0], state[1]] = weightedRewards\n",
        "    deltas.append(deltaState)\n",
        "    valueMap = copyValueMap\n",
        "    if it in [0,1,2,9, 99, numIterations-1]:\n",
        "        print(\"Iteration {}\".format(it+1))\n",
        "        print(valueMap)\n",
        "        print(\"\")"
      ],
      "execution_count": null,
      "outputs": [
        {
          "output_type": "stream",
          "text": [
            "Iteration 1\n",
            "[[ 0. -1. -1. -1.]\n",
            " [-1. -1. -1. -1.]\n",
            " [-1. -1. -1. -1.]\n",
            " [-1. -1. -1.  0.]]\n",
            "\n",
            "Iteration 2\n",
            "[[ 0.   -1.75 -2.   -2.  ]\n",
            " [-1.75 -2.   -2.   -2.  ]\n",
            " [-2.   -2.   -2.   -1.75]\n",
            " [-2.   -2.   -1.75  0.  ]]\n",
            "\n",
            "Iteration 3\n",
            "[[ 0.     -2.4375 -2.9375 -3.    ]\n",
            " [-2.4375 -2.875  -3.     -2.9375]\n",
            " [-2.9375 -3.     -2.875  -2.4375]\n",
            " [-3.     -2.9375 -2.4375  0.    ]]\n",
            "\n",
            "Iteration 10\n",
            "[[ 0.         -6.13796997 -8.35235596 -8.96731567]\n",
            " [-6.13796997 -7.73739624 -8.42782593 -8.35235596]\n",
            " [-8.35235596 -8.42782593 -7.73739624 -6.13796997]\n",
            " [-8.96731567 -8.35235596 -6.13796997  0.        ]]\n",
            "\n",
            "Iteration 100\n",
            "[[  0.         -13.94260509 -19.91495107 -21.90482522]\n",
            " [-13.94260509 -17.92507693 -19.91551999 -19.91495107]\n",
            " [-19.91495107 -19.91551999 -17.92507693 -13.94260509]\n",
            " [-21.90482522 -19.91495107 -13.94260509   0.        ]]\n",
            "\n",
            "Iteration 1000\n",
            "[[  0. -14. -20. -22.]\n",
            " [-14. -18. -20. -20.]\n",
            " [-20. -20. -18. -14.]\n",
            " [-22. -20. -14.   0.]]\n",
            "\n"
          ],
          "name": "stdout"
        }
      ]
    },
    {
      "cell_type": "code",
      "metadata": {
        "id": "Qphc8TYUT2iq",
        "colab": {
          "base_uri": "https://localhost:8080/",
          "height": 864
        },
        "outputId": "e84ad9d8-b1dc-49f9-dae0-ba396f6babf9"
      },
      "source": [
        "plt.figure(figsize=(20, 10))\n",
        "plt.plot(deltas)"
      ],
      "execution_count": null,
      "outputs": [
        {
          "output_type": "execute_result",
          "data": {
            "text/plain": [
              "[<matplotlib.lines.Line2D at 0x7fd5525ab590>,\n",
              " <matplotlib.lines.Line2D at 0x7fd5525ab790>,\n",
              " <matplotlib.lines.Line2D at 0x7fd5525ab950>,\n",
              " <matplotlib.lines.Line2D at 0x7fd5525abb10>,\n",
              " <matplotlib.lines.Line2D at 0x7fd5525abcd0>,\n",
              " <matplotlib.lines.Line2D at 0x7fd5525abe90>,\n",
              " <matplotlib.lines.Line2D at 0x7fd5525b6110>,\n",
              " <matplotlib.lines.Line2D at 0x7fd5525b62d0>,\n",
              " <matplotlib.lines.Line2D at 0x7fd5525abc90>,\n",
              " <matplotlib.lines.Line2D at 0x7fd5525abed0>,\n",
              " <matplotlib.lines.Line2D at 0x7fd5526b8610>,\n",
              " <matplotlib.lines.Line2D at 0x7fd5525b6910>,\n",
              " <matplotlib.lines.Line2D at 0x7fd5525b6ad0>,\n",
              " <matplotlib.lines.Line2D at 0x7fd5525b6c90>,\n",
              " <matplotlib.lines.Line2D at 0x7fd5525b6e50>,\n",
              " <matplotlib.lines.Line2D at 0x7fd5525b6fd0>]"
            ]
          },
          "metadata": {
            "tags": []
          },
          "execution_count": 10
        },
        {
          "output_type": "display_data",
          "data": {
            "image/png": "[encoded data removed]",
            "text/plain": [
              "<Figure size 1440x720 with 1 Axes>"
            ]
          },
          "metadata": {
            "tags": [],
            "needs_background": "light"
          }
        }
      ]
    },
    {
      "cell_type": "code",
      "metadata": {
        "id": "pI3vuL4lT2ir"
      },
      "source": [
        ""
      ],
      "execution_count": null,
      "outputs": []
    }
  ]
}